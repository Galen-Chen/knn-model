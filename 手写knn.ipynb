{
 "cells": [
  {
   "cell_type": "code",
   "execution_count": 1,
   "metadata": {},
   "outputs": [],
   "source": [
    "import numpy as np\n",
    "import pandas as pd\n",
    "import matplotlib.pyplot as plt"
   ]
  },
  {
   "cell_type": "code",
   "execution_count": 21,
   "metadata": {},
   "outputs": [
    {
     "name": "stdout",
     "output_type": "stream",
     "text": [
      "(42000, 785)\n",
      "<class 'pandas.core.frame.DataFrame'>\n"
     ]
    }
   ],
   "source": [
    "def load_data(data_dir, train_row):\n",
    "    train = pd.read_csv(data_dir + \"train.csv\")\n",
    "    print(train.shape)\n",
    "    X_train = train.values[0:train_row,1:] #take all rows and thier col 1:\n",
    "    y_train = train.values[0:train_row,0] #lable\n",
    "    \n",
    "    print(type(train))\n",
    "    \n",
    "    Pred_test = pd.read_csv(data_dir + \"test.csv\").values\n",
    "    Pred_test = Pred_test[:train_row]\n",
    "    return X_train, y_train, Pred_test\n",
    "\n",
    "train_row = 5000\n",
    "data_dir = \"/Users/Galen/Desktop/AI/1all/\"\n",
    "Origin_X_train, Origin_y_train, Origin_y_test = load_data(data_dir, train_row)\n"
   ]
  },
  {
   "cell_type": "code",
   "execution_count": 22,
   "metadata": {},
   "outputs": [
    {
     "name": "stdout",
     "output_type": "stream",
     "text": [
      "<class 'numpy.ndarray'>\n"
     ]
    },
    {
     "data": {
      "text/plain": [
       "array([[0, 0, 0],\n",
       "       [0, 0, 0]])"
      ]
     },
     "execution_count": 22,
     "metadata": {},
     "output_type": "execute_result"
    }
   ],
   "source": [
    "print(type(Origin_y_test))\n",
    "Origin_X_train[:2,:3]"
   ]
  },
  {
   "cell_type": "code",
   "execution_count": 23,
   "metadata": {},
   "outputs": [
    {
     "name": "stdout",
     "output_type": "stream",
     "text": [
      "(4000, 784) (1000, 784) (4000,) (1000,)\n"
     ]
    }
   ],
   "source": [
    "from sklearn.model_selection import train_test_split\n",
    "\n",
    "X_train, X_vali, y_train, y_vali = train_test_split(Origin_X_train,Origin_y_train,test_size =0.2, random_state =0)\n",
    "print(X_train.shape, X_vali.shape, y_train.shape, y_vali.shape)"
   ]
  },
  {
   "cell_type": "code",
   "execution_count": 24,
   "metadata": {},
   "outputs": [],
   "source": [
    "class knn():\n",
    "    \n",
    "    def __init__(self):\n",
    "        pass\n",
    "    \n",
    "    def train(self, X, y):\n",
    "        #x is the feature of the trainning data\n",
    "        #y is the label vector of the traning data\n",
    "        self.X_train = X\n",
    "        self.y_train = y\n",
    "        \n",
    "    def predict(self, X, num, k):\n",
    "        # X is the feature of the data to predict\n",
    "        dataSet = X_train\n",
    "        labels = y_train\n",
    "        dataSetSize = dataSet.shape[0]\n",
    "        \n",
    "        \n",
    "        #np.tile: repeat an array several times\n",
    "        # a = np.array([0,1,2])\n",
    "        # np.tile(a,(2,3))\n",
    "        #array([[0,1,2,0,1,2,0,1,2],[0,1,2,0,1,2,0,1,2])\n",
    "        \n",
    "        \n",
    "    \n",
    "        diffMat = np.tile(X, (dataSetSize, 1))-dataSet       # X_repeat-X_train\n",
    "        \n",
    "        sqDiffMat = diffMat **2      # sqaure of difference in each dim ofr each inistance\n",
    "        sumDiffMat = sqDiffMat.sum(axis=1) # sum of eucilidean distance  axis =1 : 是列 col    axis =0 : 是行 row\n",
    "        distances = sumDiffMat **0.5    # euclidean distance\n",
    "        \n",
    "        #np.argsort:return index of elements after sorting in ascending order\n",
    "        # x = np.array([300, 100, 200])\n",
    "        # np.argsort(x)\n",
    "        #array([1,2,0])\n",
    "        \n",
    "        sortedDistances =distances.argsort()\n",
    "        \n",
    "        \n",
    "        classCount={} # classcount[i] is the number of times label 'i' appears in top k postions\n",
    "        for i in range(k):\n",
    "            vote = labels[sortedDistances[i]]\n",
    "            classCount[vote] = classCount.get(vote, 0)+1   # 如果编号vote有 则加一，没有 则是0；\n",
    "        max =0\n",
    "        ans = 0\n",
    "        for k, v in classCount.items():\n",
    "            if (v>max):\n",
    "                ans = k\n",
    "                max = v\n",
    "        \n",
    "        return ans\n",
    "    \n",
    "    "
   ]
  },
  {
   "cell_type": "markdown",
   "metadata": {},
   "source": [
    "下面进行knn模型训练\n"
   ]
  },
  {
   "cell_type": "code",
   "execution_count": 14,
   "metadata": {},
   "outputs": [
    {
     "name": "stdout",
     "output_type": "stream",
     "text": [
      "<class '__main__.knn'>\n",
      "<class 'method'>\n",
      "<class 'numpy.ndarray'>\n"
     ]
    }
   ],
   "source": [
    "from sklearn.metrics import accuracy_score\n",
    "classifier = knn()\n",
    "classifier.train(X_train, y_train)\n",
    "print(type(classifier))\n",
    "print(type(classifier.predict))\n",
    "print(type(X_vali[1]))\n"
   ]
  },
  {
   "cell_type": "code",
   "execution_count": 18,
   "metadata": {},
   "outputs": [
    {
     "name": "stderr",
     "output_type": "stream",
     "text": [
      "  1%|          | 6/1000 [00:00<00:18, 52.75it/s]"
     ]
    },
    {
     "name": "stdout",
     "output_type": "stream",
     "text": [
      "k= 1 start prediction\n"
     ]
    },
    {
     "name": "stderr",
     "output_type": "stream",
     "text": [
      "100%|██████████| 1000/1000 [00:17<00:00, 55.70it/s]\n",
      "  1%|          | 6/1000 [00:00<00:17, 55.30it/s]"
     ]
    },
    {
     "name": "stdout",
     "output_type": "stream",
     "text": [
      "k=  1 accuracy = 0.919\n",
      "k= 2 start prediction\n"
     ]
    },
    {
     "name": "stderr",
     "output_type": "stream",
     "text": [
      "100%|██████████| 1000/1000 [00:18<00:00, 55.23it/s]\n",
      "  1%|          | 6/1000 [00:00<00:17, 55.56it/s]"
     ]
    },
    {
     "name": "stdout",
     "output_type": "stream",
     "text": [
      "k=  2 accuracy = 0.919\n",
      "k= 3 start prediction\n"
     ]
    },
    {
     "name": "stderr",
     "output_type": "stream",
     "text": [
      "100%|██████████| 1000/1000 [00:18<00:00, 55.28it/s]\n",
      "  1%|          | 6/1000 [00:00<00:17, 55.65it/s]"
     ]
    },
    {
     "name": "stdout",
     "output_type": "stream",
     "text": [
      "k=  3 accuracy = 0.925\n",
      "k= 4 start prediction\n"
     ]
    },
    {
     "name": "stderr",
     "output_type": "stream",
     "text": [
      "100%|██████████| 1000/1000 [00:18<00:00, 55.08it/s]"
     ]
    },
    {
     "name": "stdout",
     "output_type": "stream",
     "text": [
      "k=  4 accuracy = 0.924\n"
     ]
    },
    {
     "name": "stderr",
     "output_type": "stream",
     "text": [
      "\n"
     ]
    }
   ],
   "source": [
    "from tqdm import tqdm #进度条\n",
    "max = 0\n",
    "ans_k =0\n",
    "\n",
    "for k in range(1,5):\n",
    "    print( 'k=',k,'start prediction')\n",
    "    predictions =np.zeros(len(y_vali)) #生成一个全是o的 那么长的 数组\n",
    "    for i in tqdm(range(X_vali.shape[0])):\n",
    "  #  for i in range(X_vali.shape[0]):\n",
    "   #     if i % 500 ==0:\n",
    "    #        print(str(i+1) +'/' + str(int(len(X_vali)))+ '....')\n",
    "        output = classifier.predict(X_vali[i],i,k)\n",
    "        predictions[i] = output\n",
    "                  \n",
    "    accuracy = accuracy_score(y_vali,predictions)\n",
    "    print('k= ',k,'accuracy =',accuracy)\n",
    "    if accuracy > max:\n",
    "        max = accuracy\n",
    "        ans_k =k\n"
   ]
  },
  {
   "cell_type": "code",
   "execution_count": 17,
   "metadata": {},
   "outputs": [
    {
     "name": "stdout",
     "output_type": "stream",
     "text": [
      "k=  1 accuracy = 0.924\n"
     ]
    }
   ],
   "source": [
    " print('k= ',k,'accuracy =',accuracy)"
   ]
  },
  {
   "cell_type": "code",
   "execution_count": 29,
   "metadata": {},
   "outputs": [
    {
     "data": {
      "text/plain": [
       "(5000, 784)"
      ]
     },
     "execution_count": 29,
     "metadata": {},
     "output_type": "execute_result"
    }
   ],
   "source": [
    "Origin_y_test.shape\n"
   ]
  },
  {
   "cell_type": "code",
   "execution_count": 30,
   "metadata": {},
   "outputs": [
    {
     "name": "stdout",
     "output_type": "stream",
     "text": [
      "0 / 300\n",
      "100 / 300\n",
      "200 / 300\n"
     ]
    }
   ],
   "source": [
    "k = 3\n",
    "Origin_y_test = Origin_y_test[:300]\n",
    "predictions = np.zeros(Origin_y_test.shape[0])\n",
    "for i in range(Origin_y_test.shape[0]):\n",
    "    if i %100 ==0:\n",
    "        print(i, '/', Origin_y_test.shape[0])\n",
    "    predictions[i] = classifier.predict(Origin_y_test[i],i,k)\n",
    "    "
   ]
  },
  {
   "cell_type": "code",
   "execution_count": 38,
   "metadata": {},
   "outputs": [
    {
     "name": "stdout",
     "output_type": "stream",
     "text": [
      "8.0\n"
     ]
    },
    {
     "data": {
      "image/png": "[encoded data removed]",
      "text/plain": [
       "<Figure size 432x288 with 1 Axes>"
      ]
     },
     "metadata": {},
     "output_type": "display_data"
    }
   ],
   "source": [
    "id = 123\n",
    "print(predictions[id])\n",
    "plt.imshow(Origin_y_test[id].reshape((28,28)))\n",
    "plt.show()"
   ]
  },
  {
   "cell_type": "code",
   "execution_count": 39,
   "metadata": {},
   "outputs": [],
   "source": [
    "out_file = open(\"predictions.cvs\",'w')\n",
    "out_file.write('ImageID,Label\\n')\n",
    "for i in range(len(predictions)):\n",
    "    out_file.write(str(i+1)+','+str(int(predictions[i]))+'\\n')\n",
    "out_file.close()"
   ]
  },
  {
   "cell_type": "code",
   "execution_count": null,
   "metadata": {},
   "outputs": [],
   "source": []
  },
  {
   "cell_type": "code",
   "execution_count": null,
   "metadata": {},
   "outputs": [],
   "source": []
  },
  {
   "cell_type": "code",
   "execution_count": null,
   "metadata": {},
   "outputs": [],
   "source": []
  },
  {
   "cell_type": "code",
   "execution_count": null,
   "metadata": {},
   "outputs": [],
   "source": []
  }
 ],
 "metadata": {
  "kernelspec": {
   "display_name": "Python 3",
   "language": "python",
   "name": "python3"
  },
  "language_info": {
   "codemirror_mode": {
    "name": "ipython",
    "version": 3
   },
   "file_extension": ".py",
   "mimetype": "text/x-python",
   "name": "python",
   "nbconvert_exporter": "python",
   "pygments_lexer": "ipython3",
   "version": "3.6.5"
  }
 },
 "nbformat": 4,
 "nbformat_minor": 2
}
